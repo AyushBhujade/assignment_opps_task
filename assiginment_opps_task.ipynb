{
 "cells": [
  {
   "cell_type": "markdown",
   "id": "cad3fe45-2728-4b5d-839a-7788eb32036b",
   "metadata": {},
   "source": [
    "quation 1"
   ]
  },
  {
   "cell_type": "code",
   "execution_count": 7,
   "id": "1102ec60-eaf6-4af9-b1b5-47cdbacaa63e",
   "metadata": {},
   "outputs": [
    {
     "data": {
      "text/plain": [
       "('thar', 250, 80)"
      ]
     },
     "execution_count": 7,
     "metadata": {},
     "output_type": "execute_result"
    }
   ],
   "source": [
    "class vehical :\n",
    "    def __init__(self,name_of_vehicle,max_speed,average_of_vehicle):\n",
    "        self.name_of_vehicle=name_of_vehicle\n",
    "        self.max_speed=max_speed\n",
    "        self.average_of_vehicle=average_of_vehicle \n",
    "    def returnfun (self):\n",
    "        return self.name_of_vehicle,self.max_speed,self.average_of_vehicle\n",
    "car1=vehical(\"thar\",250,80)\n",
    "car1.returnfun()"
   ]
  },
  {
   "cell_type": "markdown",
   "id": "35417145-270b-4969-8681-87f5d896fc62",
   "metadata": {},
   "source": [
    "quation 2:"
   ]
  },
  {
   "cell_type": "code",
   "execution_count": 19,
   "id": "5bc745e9-02bd-4799-b640-a8aaacbc8536",
   "metadata": {},
   "outputs": [],
   "source": [
    "class car(vehical):\n",
    "    def seating_capacity(self,capacity,name_of_vehicle):\n",
    "        self.name_of_vehicle=name_of_vehicle\n",
    "        self.capacity=capacity\n",
    "        return capacity,name_of_vehicle"
   ]
  },
  {
   "cell_type": "code",
   "execution_count": 22,
   "id": "71ca3488-87bf-4abb-97e8-b9594e6565df",
   "metadata": {},
   "outputs": [
    {
     "data": {
      "text/plain": [
       "(6, 'innova')"
      ]
     },
     "execution_count": 22,
     "metadata": {},
     "output_type": "execute_result"
    }
   ],
   "source": [
    "car2=car(\"inova\",150,60)\n",
    "car2.seating_capacity(6,\"innova\")\n",
    "\n",
    "\n"
   ]
  },
  {
   "cell_type": "markdown",
   "id": "fefa9901-e138-4874-8d0b-f4dab3f57151",
   "metadata": {},
   "source": [
    "quation 3: it is refer to a situation where a class inherits attribute and method fromm more\n",
    "than one base class\n"
   ]
  },
  {
   "cell_type": "code",
   "execution_count": 32,
   "id": "1fa47411-2063-49b2-af7d-4589e82dc525",
   "metadata": {},
   "outputs": [
    {
     "data": {
      "text/plain": [
       "'bhujade'"
      ]
     },
     "execution_count": 32,
     "metadata": {},
     "output_type": "execute_result"
    }
   ],
   "source": [
    "class firstName:\n",
    "    def name(self):\n",
    "        return \"ayush\"\n",
    "class lastName(firstName):\n",
    "    def surname(self):\n",
    "        return \"bhujade\"\n",
    "class fullName(lastName):\n",
    "    def fullname(self):\n",
    "        return fullName\n",
    "\n",
    "combineName=fullName()\n",
    "combineName.name()\n",
    "combineName.surname()\n"
   ]
  },
  {
   "cell_type": "markdown",
   "id": "b7fce34c-c6c8-4e5b-83cb-276c2707aa2d",
   "metadata": {},
   "source": [
    "quation 4:getter and setter methods are used to access and modify the privet attribute\n",
    "of a class providing control over how the data is retried and update\n"
   ]
  },
  {
   "cell_type": "code",
   "execution_count": 39,
   "id": "a51c524a-40b2-4f35-a222-cc57ae733619",
   "metadata": {},
   "outputs": [
    {
     "data": {
      "text/plain": [
       "12500"
      ]
     },
     "execution_count": 39,
     "metadata": {},
     "output_type": "execute_result"
    }
   ],
   "source": [
    "class finance:\n",
    "    def __init__(self,priceOfProduct):\n",
    "        self.__priceOfProduct=priceOfProduct\n",
    "    def amount(self,money):\n",
    "        self.__priceOfProduct=self.__priceOfProduct-money\n",
    "    def getPrice(self):\n",
    "        return self.__priceOfProduct\n",
    "    def setPrice(self,newMoney):\n",
    "        self.__priceOfProduct =self.__priceOfProduct+newMoney\n",
    "        \n",
    "car=finance(5000)\n",
    "car.amount(500)\n",
    "car.getPrice()\n",
    "car.setPrice(8000)\n",
    "car.getPrice()\n",
    "        "
   ]
  },
  {
   "cell_type": "markdown",
   "id": "abd27c81-2f88-45b7-9593-ba3f41bb4e87",
   "metadata": {},
   "source": [
    "quation 5:method overriding in python occurs when a subclass providesa soecific implementation of a\n",
    "method that isalready defined in its superclass\n"
   ]
  },
  {
   "cell_type": "code",
   "execution_count": 40,
   "id": "5ef8d69d-c4e4-4c98-9bde-bb793ccf0391",
   "metadata": {},
   "outputs": [
    {
     "name": "stdout",
     "output_type": "stream",
     "text": [
      "dog bark\n",
      "cat meows\n"
     ]
    }
   ],
   "source": [
    "class animal:\n",
    "    def speak(self):\n",
    "        print(\"animal speaks\")\n",
    "class dog(animal):\n",
    "    def speak(self):\n",
    "        print(\"dog bark\")\n",
    "class cat(animal):\n",
    "    def speak(self):\n",
    "        print(\"cat meows\")\n",
    "dog=dog()\n",
    "cat=cat()\n",
    "dog.speak()\n",
    "cat.speak()"
   ]
  },
  {
   "cell_type": "code",
   "execution_count": null,
   "id": "2d5c9d0b-2f7f-4f34-9c3b-c9f493fc47f1",
   "metadata": {},
   "outputs": [],
   "source": []
  }
 ],
 "metadata": {
  "kernelspec": {
   "display_name": "Python 3 (ipykernel)",
   "language": "python",
   "name": "python3"
  },
  "language_info": {
   "codemirror_mode": {
    "name": "ipython",
    "version": 3
   },
   "file_extension": ".py",
   "mimetype": "text/x-python",
   "name": "python",
   "nbconvert_exporter": "python",
   "pygments_lexer": "ipython3",
   "version": "3.10.8"
  }
 },
 "nbformat": 4,
 "nbformat_minor": 5
}
